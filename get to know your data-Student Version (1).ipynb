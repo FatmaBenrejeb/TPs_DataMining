{
 "cells": [
  {
   "cell_type": "markdown",
   "id": "66a98933",
   "metadata": {},
   "source": [
    "# Welcome to our first Python lab: Getting to know your data\n",
    "\n",
    " This notebook will go through a set of important tasks that need to be carried out prior to data preprocessing step which are about getting to know your data. \n",
    " knowledge about your data is useful for data preprocessing, this involves:\n",
    "* having a closer look at the different attributes that make-up your data, their types and their values. \n",
    "* checking the distribution of your data: normal istribution (symmetric, Gaussian) or skewed\n",
    "* having an idea about the central tendency of the data distribution and the dispersion (spread) of attribute data using the basic statistical description (mean, standard deviation, ...)\n",
    "\n",
    "\n"
   ]
  },
  {
   "cell_type": "code",
   "execution_count": 2,
   "id": "ddc32f71",
   "metadata": {},
   "outputs": [],
   "source": [
    "## Import necessary libraries\n",
    "import pandas as pd\n",
    "import numpy as np\n",
    "import matplotlib.pyplot as plt\n",
    "import seaborn as sns\n",
    "from scipy import stats"
   ]
  },
  {
   "cell_type": "markdown",
   "id": "855253f7",
   "metadata": {},
   "source": [
    "* Pandas will be used to handle the dataframe; \n",
    "* numpy will be used to calculate a few key statistics such as median and standard deviation as well as to draw random samples from the dataset, \n",
    "* matplotlib.pyplot andseaborn will be used together to generate the plot\n",
    "* scipy will be used for the mathematical calculation of the normal statistics.\n"
   ]
  },
  {
   "cell_type": "markdown",
   "id": "e369e9f5",
   "metadata": {},
   "source": [
    "### Exploration and visualization of Data"
   ]
  },
  {
   "cell_type": "code",
   "execution_count": 10,
   "id": "9b420b49",
   "metadata": {},
   "outputs": [
    {
     "data": {
      "text/html": [
       "<div>\n",
       "<style scoped>\n",
       "    .dataframe tbody tr th:only-of-type {\n",
       "        vertical-align: middle;\n",
       "    }\n",
       "\n",
       "    .dataframe tbody tr th {\n",
       "        vertical-align: top;\n",
       "    }\n",
       "\n",
       "    .dataframe thead th {\n",
       "        text-align: right;\n",
       "    }\n",
       "</style>\n",
       "<table border=\"1\" class=\"dataframe\">\n",
       "  <thead>\n",
       "    <tr style=\"text-align: right;\">\n",
       "      <th></th>\n",
       "      <th>temp</th>\n",
       "      <th>gender</th>\n",
       "      <th>heartBeat</th>\n",
       "    </tr>\n",
       "  </thead>\n",
       "  <tbody>\n",
       "    <tr>\n",
       "      <th>0</th>\n",
       "      <td>96.3</td>\n",
       "      <td>1</td>\n",
       "      <td>70</td>\n",
       "    </tr>\n",
       "    <tr>\n",
       "      <th>1</th>\n",
       "      <td>96.7</td>\n",
       "      <td>1</td>\n",
       "      <td>71</td>\n",
       "    </tr>\n",
       "    <tr>\n",
       "      <th>2</th>\n",
       "      <td>96.9</td>\n",
       "      <td>1</td>\n",
       "      <td>74</td>\n",
       "    </tr>\n",
       "    <tr>\n",
       "      <th>3</th>\n",
       "      <td>97.0</td>\n",
       "      <td>1</td>\n",
       "      <td>80</td>\n",
       "    </tr>\n",
       "    <tr>\n",
       "      <th>4</th>\n",
       "      <td>97.1</td>\n",
       "      <td>1</td>\n",
       "      <td>73</td>\n",
       "    </tr>\n",
       "  </tbody>\n",
       "</table>\n",
       "</div>"
      ],
      "text/plain": [
       "   temp  gender  heartBeat\n",
       "0  96.3       1         70\n",
       "1  96.7       1         71\n",
       "2  96.9       1         74\n",
       "3  97.0       1         80\n",
       "4  97.1       1         73"
      ]
     },
     "execution_count": 10,
     "metadata": {},
     "output_type": "execute_result"
    }
   ],
   "source": [
    "## reading of the CSV file with tabulation separator source of the dataset: http://jse.amstat.org/datasets/normtemp.dat.txt\n",
    "\n",
    "df = pd.read_csv(\"normtemp.csv\",sep=\"\\s+\",header=0)\n",
    "df.head()\n"
   ]
  },
  {
   "cell_type": "code",
   "execution_count": 8,
   "id": "22f4771c",
   "metadata": {},
   "outputs": [
    {
     "name": "stdout",
     "output_type": "stream",
     "text": [
      "130\n"
     ]
    }
   ],
   "source": [
    "## How many instances the dataset contains?\n",
    "print(len(df))"
   ]
  },
  {
   "cell_type": "code",
   "execution_count": 11,
   "id": "01758789",
   "metadata": {},
   "outputs": [
    {
     "data": {
      "text/plain": [
       "Index(['temp', 'gender', 'heartBeat'], dtype='object')"
      ]
     },
     "execution_count": 11,
     "metadata": {},
     "output_type": "execute_result"
    }
   ],
   "source": [
    "## what are the attributes that make up the data?\n",
    "df.columns"
   ]
  },
  {
   "cell_type": "code",
   "execution_count": 12,
   "id": "f1ab0a97",
   "metadata": {},
   "outputs": [
    {
     "data": {
      "text/plain": [
       "0       96.3\n",
       "1       96.7\n",
       "2       96.9\n",
       "3       97.0\n",
       "4       97.1\n",
       "       ...  \n",
       "125     99.3\n",
       "126     99.4\n",
       "127     99.9\n",
       "128    100.0\n",
       "129    100.8\n",
       "Name: temp, Length: 130, dtype: float64"
      ]
     },
     "execution_count": 12,
     "metadata": {},
     "output_type": "execute_result"
    }
   ],
   "source": [
    "## display of only temperature column\n",
    "df.temp"
   ]
  },
  {
   "cell_type": "code",
   "execution_count": 13,
   "id": "cd57c0e3",
   "metadata": {},
   "outputs": [
    {
     "data": {
      "text/plain": [
       "65      96.4\n",
       "66      96.7\n",
       "67      96.8\n",
       "68      97.2\n",
       "69      97.2\n",
       "       ...  \n",
       "125     99.3\n",
       "126     99.4\n",
       "127     99.9\n",
       "128    100.0\n",
       "129    100.8\n",
       "Name: temp, Length: 65, dtype: float64"
      ]
     },
     "execution_count": 13,
     "metadata": {},
     "output_type": "execute_result"
    }
   ],
   "source": [
    "## display of only temperature reading for women\n",
    "df[df.gender==2].temp"
   ]
  },
  {
   "cell_type": "code",
   "execution_count": 14,
   "id": "64a0b0e0",
   "metadata": {},
   "outputs": [
    {
     "name": "stdout",
     "output_type": "stream",
     "text": [
      "<class 'pandas.core.frame.DataFrame'>\n",
      "RangeIndex: 130 entries, 0 to 129\n",
      "Data columns (total 3 columns):\n",
      " #   Column     Non-Null Count  Dtype  \n",
      "---  ------     --------------  -----  \n",
      " 0   temp       130 non-null    float64\n",
      " 1   gender     130 non-null    int64  \n",
      " 2   heartBeat  130 non-null    int64  \n",
      "dtypes: float64(1), int64(2)\n",
      "memory usage: 3.2 KB\n"
     ]
    }
   ],
   "source": [
    "## display information about the dataset\n",
    "df.info()"
   ]
  },
  {
   "cell_type": "code",
   "execution_count": 15,
   "id": "46b196ba",
   "metadata": {},
   "outputs": [
    {
     "data": {
      "image/png": "[encoded data removed]",
      "text/plain": [
       "<Figure size 432x288 with 1 Axes>"
      ]
     },
     "metadata": {
      "needs_background": "light"
     },
     "output_type": "display_data"
    }
   ],
   "source": [
    "## histogram based visualization\n",
    "## for the attribute temperature\n",
    "plt.hist(df['temp'])\n",
    "plt.ylabel('frequency')\n",
    "plt.xlabel('temperature')\n",
    "plt.show()"
   ]
  },
  {
   "cell_type": "code",
   "execution_count": 16,
   "id": "6ed91306",
   "metadata": {},
   "outputs": [
    {
     "data": {
      "image/png": "[encoded data removed]",
      "text/plain": [
       "<Figure size 432x288 with 1 Axes>"
      ]
     },
     "metadata": {
      "needs_background": "light"
     },
     "output_type": "display_data"
    }
   ],
   "source": [
    "## histogram based visualization\n",
    "## for the attribute temperature (using density instead of frequency)\n",
    "plt.hist(df['temp'])\n",
    "plt.ylabel('density')\n",
    "plt.xlabel('temperature')\n",
    "plt.show()"
   ]
  },
  {
   "cell_type": "code",
   "execution_count": 18,
   "id": "a1bb6de9",
   "metadata": {},
   "outputs": [
    {
     "data": {
      "image/png": "[encoded data removed]",
      "text/plain": [
       "<Figure size 432x288 with 1 Axes>"
      ]
     },
     "metadata": {
      "needs_background": "light"
     },
     "output_type": "display_data"
    }
   ],
   "source": [
    "## histogram based visualization\n",
    "## for the attribute heart beat\n",
    "plt.hist(df['heartBeat'])\n",
    "plt.ylabel('frequency')\n",
    "plt.xlabel('heartBeat')\n",
    "plt.show()"
   ]
  },
  {
   "cell_type": "code",
   "execution_count": 19,
   "id": "331e5989",
   "metadata": {},
   "outputs": [
    {
     "data": {
      "image/png": "[encoded data removed]",
      "text/plain": [
       "<Figure size 432x288 with 1 Axes>"
      ]
     },
     "metadata": {
      "needs_background": "light"
     },
     "output_type": "display_data"
    }
   ],
   "source": [
    "## histogram based visualization\n",
    "## for the attribute gender\n",
    "plt.hist(df['gender'])\n",
    "plt.ylabel('frequency')\n",
    "plt.xlabel('gender')\n",
    "plt.show()"
   ]
  },
  {
   "cell_type": "code",
   "execution_count": 20,
   "id": "93459923",
   "metadata": {},
   "outputs": [
    {
     "data": {
      "text/plain": [
       "<AxesSubplot:xlabel='temp'>"
      ]
     },
     "execution_count": 20,
     "metadata": {},
     "output_type": "execute_result"
    },
    {
     "data": {
      "image/png": "[encoded data removed]",
      "text/plain": [
       "<Figure size 432x288 with 1 Axes>"
      ]
     },
     "metadata": {
      "needs_background": "light"
     },
     "output_type": "display_data"
    }
   ],
   "source": [
    "## histogram based visualization\n",
    "## bidimensional representation: temperature and gender\n",
    "table = pd.crosstab(df.temp,df.gender)\n",
    "table.plot.bar(stacked=True)"
   ]
  },
  {
   "cell_type": "code",
   "execution_count": null,
   "id": "0868fbb2",
   "metadata": {},
   "outputs": [],
   "source": [
    "## Studying the central tendency and the dispersion of the data \n"
   ]
  },
  {
   "cell_type": "markdown",
   "id": "e04964b3",
   "metadata": {},
   "source": [
    "### Five-number Summary (Tukey five-number summary because it was recommended by John Tukey)\n",
    "* The five-number summary can be calculated for a data sample with any distribution.\n",
    "* We can calculate percentile values in Python using the percentile() NumPy function. \n",
    "* We can use this function to calculate the Q1 , Q2 (median), and Q3 quartile values. \n",
    "* The function takes both an array of observations and a floating point value (0,25; 0,5 and 0,75) to specify the percentile to calculate in the range of 0 to 100.\n",
    "* The NumPy functions min() and max() can be used to return the smallest and largest values in the data sample."
   ]
  },
  {
   "cell_type": "code",
   "execution_count": 31,
   "id": "2f7c17db",
   "metadata": {},
   "outputs": [
    {
     "data": {
      "image/png": "[encoded data removed]",
      "text/plain": [
       "<Figure size 432x288 with 1 Axes>"
      ]
     },
     "metadata": {
      "needs_background": "light"
     },
     "output_type": "display_data"
    }
   ],
   "source": [
    "## Five-Number Summary\n",
    "# calculate quartiles\n",
    "\n",
    "#np.percentile(df,50)\n",
    "np.percentile(df.temp,25)\n",
    "#np.percentile(df,75)\n",
    "\n",
    "# calculate min/max\n",
    "np.max(df.temp)\n",
    "np.min(df)\n",
    "# print 5-number summary\n",
    "\n",
    "plt.boxplot(df.temp)\n",
    "plt.show()"
   ]
  },
  {
   "cell_type": "markdown",
   "id": "79a91eee",
   "metadata": {},
   "source": [
    "### QQ plot\n",
    "Another popular plot for checking the distribution of a data sample is the quantile-quantile plot, Q-Q plot, or QQ plot for short.\n",
    "* We can develop a QQ plot in Python using the qqplot() statsmodels function. \n",
    "* The function takes the data sample and by default assumes we are comparing it to a Gaussian distribution. \n",
    "* We can draw the standardized line by setting the ‘line‘ argument to ‘s‘."
   ]
  },
  {
   "cell_type": "code",
   "execution_count": 35,
   "id": "192981e3",
   "metadata": {},
   "outputs": [
    {
     "data": {
      "image/png": "[encoded data removed]",
      "text/plain": [
       "<Figure size 432x288 with 1 Axes>"
      ]
     },
     "metadata": {
      "needs_background": "light"
     },
     "output_type": "display_data"
    }
   ],
   "source": [
    "# q-q plot\n",
    "import statsmodels.api as sm\n",
    "sm.qqplot(df.temp, stats.t, distargs=(4,))\n",
    "plt.show()"
   ]
  },
  {
   "cell_type": "markdown",
   "id": "9994e483",
   "metadata": {},
   "source": [
    "### Statistical Normality Tests\n",
    "* There are also many statistical tests that we can use to quantify whether a sample of data looks as it was drawn from a Gaussian distribution.\n",
    "* Each test makes different assumptions and considers different aspects of the data.\n",
    "* Returned results of such tests:\n",
    "    * Statistic: A quantity calculated by the test that can be interpreted in the context of the test via comparing it to critical values from the distribution of the test statistic.\n",
    "    * p-value: Used to interpret the test, in this case whether the sample was drawn from a Gaussian distribution (H0).\n",
    "* In the SciPy implementation of these tests, you can interpret the p value as follows.\n",
    "    * p <= alpha: reject H0, not normal.\n",
    "    * p > alpha: fail to reject H0, normal.\n",
    "         * A threshold level is chosen called alpha, typically 5% (or 0.05), that is used to interpret the p-value.\n",
    "* Many normality tests exist in the literature, the three commonly used ones are: \n",
    "    * Shapiro-wil test (named for Samuel Shapiro and Martin Wilk and available via the  shapiro() SciPy function )\n",
    "    * D’Agostino’s K^2 Test (available via the normaltest() SciPy function )\n",
    "    * Anderson-Darling Test (available via the anderson() SciPy function)"
   ]
  },
  {
   "cell_type": "code",
   "execution_count": 32,
   "id": "f095eb67",
   "metadata": {},
   "outputs": [
    {
     "name": "stdout",
     "output_type": "stream",
     "text": [
      "NormaltestResult(statistic=2.703801433319236, pvalue=0.2587479863488212)\n"
     ]
    }
   ],
   "source": [
    "## do we have a normal distribtion for temperature data? \n",
    "print(stats.normaltest(df.temp))"
   ]
  }
 ],
 "metadata": {
  "kernelspec": {
   "display_name": "Python 3",
   "language": "python",
   "name": "python3"
  },
  "language_info": {
   "codemirror_mode": {
    "name": "ipython",
    "version": 3
   },
   "file_extension": ".py",
   "mimetype": "text/x-python",
   "name": "python",
   "nbconvert_exporter": "python",
   "pygments_lexer": "ipython3",
   "version": "3.8.8"
  }
 },
 "nbformat": 4,
 "nbformat_minor": 5
}
